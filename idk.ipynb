{
 "cells": [
  {
   "cell_type": "code",
   "execution_count": null,
   "metadata": {},
   "outputs": [
    {
     "data": {
      "text/plain": [
       "The bag of rice is underweight\n",
       "The bag of rice is underweight\n",
       "The bag of rice is underweight\n",
       "The bag of rice is underweight\n",
       "The bag of rice is underweight\n",
       "The bag of rice is underweight\n",
       "The bag of rice is underweight\n",
       "The bag of rice is underweight\n",
       "The bag of rice is underweight\n",
       "The bag of rice is underweight\n",
       "The bag of rice is underweight\n",
       "The bag of rice is underweight\n",
       "The bag of rice is underweight\n",
       "The bag of rice is underweight\n",
       "The bag of rice is underweight\n",
       "The bag of rice is underweight\n",
       "The bag of rice is underweight\n",
       "The bag of rice is underweight\n",
       "The bag of rice is underweight\n",
       "The bag of rice is underweight\n",
       "The bag of rice is underweight\n",
       "The bag of rice is underweight\n",
       "The bag of rice is underweight\n",
       "Traceback (most recent call last):\n",
       "  File \"/home/vscode/.vscode-remote/extensions/ms-python.python-2024.20.0-linux-x64/python_files/python_server.py\", line 130, in exec_user_input\n",
       "    retval = callable_(user_input, user_globals)\n",
       "             ^^^^^^^^^^^^^^^^^^^^^^^^^^^^^^^^^^^\n",
       "  File \"<string>\", line 8, in <module>\n",
       "TypeError: float() argument must be a string or a real number, not 'NoneType'\n",
       "\n"
      ]
     },
     "metadata": {},
     "output_type": "display_data"
    }
   ],
   "source": [
    "bags_rice = int(input(\"how many bags of rice are you weighing? \"))\n",
    "upper_bound = 5.1\n",
    "lower_bound = 4.9\n",
    "noofoverweight=0\n",
    "noofunderweight=0\n",
    "correctweight=0\n",
    "for count in range(bags_rice):\n",
    "    bag_weight = float(input(\"Enter the weight of the bag of rice: \"))\n",
    "    if bag_weight > upper_bound:\n",
    "        print(\"The bag of rice is overweight\")\n",
    "        noofoverweight=noofoverweight+1\n",
    "    elif bag_weight < lower_bound:\n",
    "        print(\"The bag of rice is underweight\")\n",
    "        noofunderweight=noofunderweight+1\n",
    "    else:\n",
    "        print(\"The bag of rice is the correct weight\")\n",
    "        correctweight=correctweight+1\n",
    "print(\"no. of overweight: \",noofoverweight,\", no. of underweight: \",noofunderweight,\", no. of correct weight: \",correctweight)"
   ]
  }
 ],
 "metadata": {
  "language_info": {
   "name": "python"
  }
 },
 "nbformat": 4,
 "nbformat_minor": 2
}
